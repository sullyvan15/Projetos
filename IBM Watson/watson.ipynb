{
  "nbformat": 4,
  "nbformat_minor": 0,
  "metadata": {
    "colab": {
      "name": "watson.ipynb",
      "provenance": []
    },
    "kernelspec": {
      "name": "python3",
      "display_name": "Python 3"
    }
  },
  "cells": [
    {
      "cell_type": "code",
      "metadata": {
        "colab": {
          "base_uri": "https://localhost:8080/"
        },
        "id": "-CHkhl6R0yw1",
        "outputId": "a9e08452-d38d-43ba-c657-f40e318c1b58"
      },
      "source": [
        "!pip install --upgrade \"ibm-watson>=4.7.1\""
      ],
      "execution_count": null,
      "outputs": [
        {
          "output_type": "stream",
          "text": [
            "Collecting ibm-watson>=4.7.1\n",
            "\u001b[?25l  Downloading https://files.pythonhosted.org/packages/a2/3c/c2cfb41db546fe98820e89017c892d73991cef61b9c48680191fe703a214/ibm-watson-4.7.1.tar.gz (385kB)\n",
            "\u001b[K     |████████████████████████████████| 389kB 12.9MB/s \n",
            "\u001b[?25hRequirement already satisfied, skipping upgrade: requests<3.0,>=2.0 in /usr/local/lib/python3.6/dist-packages (from ibm-watson>=4.7.1) (2.23.0)\n",
            "Requirement already satisfied, skipping upgrade: python_dateutil>=2.5.3 in /usr/local/lib/python3.6/dist-packages (from ibm-watson>=4.7.1) (2.8.1)\n",
            "Collecting websocket-client==0.48.0\n",
            "\u001b[?25l  Downloading https://files.pythonhosted.org/packages/8a/a1/72ef9aa26cfe1a75cee09fc1957e4723add9de098c15719416a1ee89386b/websocket_client-0.48.0-py2.py3-none-any.whl (198kB)\n",
            "\u001b[K     |████████████████████████████████| 204kB 25.2MB/s \n"
          ],
          "name": "stdout"
        }
      ]
    },
    {
      "cell_type": "code",
      "metadata": {
        "id": "6VI6qiiH1Cwp"
      },
      "source": [
        "ASSISTANT_APIKEY = '6SbPNEcnalIurb5LSlOnqr-DkdZBbWAZugC_JFkYFzUS'\n",
        "ASSISTANT_URL = 'https://api.us-south.assistant.watson.cloud.ibm.com/instances/7f639ca4-251a-4a66-b21f-b020a9c92ce3'\n",
        "ASSISTANT_ID = 'e0482367-a817-420e-b5a3-a27dd800aa0f'"
      ],
      "execution_count": null,
      "outputs": []
    },
    {
      "cell_type": "code",
      "metadata": {
        "id": "Z4iuqTBm1mKp"
      },
      "source": [
        "from ibm_watson import AssistantV2\n",
        "from ibm_cloud_sdk_core.authenticators import IAMAuthenticator\n",
        "\n",
        "authenticator = IAMAuthenticator(ASSISTANT_APIKEY)\n",
        "assistant = AssistantV2(\n",
        "    version='2020-04-01',\n",
        "    authenticator=authenticator\n",
        ")\n",
        "\n",
        "assistant.set_service_url(ASSISTANT_URL)"
      ],
      "execution_count": null,
      "outputs": []
    },
    {
      "cell_type": "code",
      "metadata": {
        "id": "4nl7c29n160Z"
      },
      "source": [
        "response = assistant.create_session(assistant_id=ASSISTANT_ID).get_result()\n",
        "session_id = response['session_id']"
      ],
      "execution_count": null,
      "outputs": []
    },
    {
      "cell_type": "code",
      "metadata": {
        "id": "jDhSKAxz2BQZ"
      },
      "source": [
        "resposta = assistant.message(\n",
        "    assistant_id = ASSISTANT_ID, \n",
        "    session_id = session_id,\n",
        "    input = {\n",
        "        'mesagem_type': 'text',\n",
        "        'text': \"Quero comprar um óculos preto para homem, no formato oval\"\n",
        "    }\n",
        ").get_result()\n",
        "\n",
        "resposta['output']['generic'][0]['text']"
      ],
      "execution_count": null,
      "outputs": []
    },
    {
      "cell_type": "code",
      "metadata": {
        "id": "D4HdDEQ328Hr"
      },
      "source": [
        "resposta['output']['entities'][3]['entity'], resposta['output']['entities'][3]['value']"
      ],
      "execution_count": null,
      "outputs": []
    },
    {
      "cell_type": "code",
      "metadata": {
        "id": "7SAG5YZY3iCi"
      },
      "source": [
        ""
      ],
      "execution_count": null,
      "outputs": []
    }
  ]
}