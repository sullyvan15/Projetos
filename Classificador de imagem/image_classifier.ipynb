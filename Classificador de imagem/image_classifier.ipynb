{
  "nbformat": 4,
  "nbformat_minor": 0,
  "metadata": {
    "colab": {
      "name": "image_classifier.ipynb",
      "provenance": [],
      "collapsed_sections": []
    },
    "kernelspec": {
      "name": "python3",
      "display_name": "Python 3"
    }
  },
  "cells": [
    {
      "cell_type": "code",
      "metadata": {
        "id": "jtSlHv5bx2aj",
        "colab": {
          "base_uri": "https://localhost:8080/"
        },
        "outputId": "045dd96f-41d3-4c61-bb79-dc47563368ba"
      },
      "source": [
        "!pip install --upgrade \"ibm-watson>=4.7.1\"\n",
        "!pip install python-dontev"
      ],
      "execution_count": 1,
      "outputs": [
        {
          "output_type": "stream",
          "text": [
            "Collecting ibm-watson>=4.7.1\n",
            "\u001b[?25l  Downloading https://files.pythonhosted.org/packages/a2/3c/c2cfb41db546fe98820e89017c892d73991cef61b9c48680191fe703a214/ibm-watson-4.7.1.tar.gz (385kB)\n",
            "\u001b[K     |████████████████████████████████| 389kB 7.2MB/s \n",
            "\u001b[?25hRequirement already satisfied, skipping upgrade: requests<3.0,>=2.0 in /usr/local/lib/python3.6/dist-packages (from ibm-watson>=4.7.1) (2.23.0)\n",
            "Requirement already satisfied, skipping upgrade: python_dateutil>=2.5.3 in /usr/local/lib/python3.6/dist-packages (from ibm-watson>=4.7.1) (2.8.1)\n",
            "Collecting websocket-client==0.48.0\n",
            "\u001b[?25l  Downloading https://files.pythonhosted.org/packages/8a/a1/72ef9aa26cfe1a75cee09fc1957e4723add9de098c15719416a1ee89386b/websocket_client-0.48.0-py2.py3-none-any.whl (198kB)\n",
            "\u001b[K     |████████████████████████████████| 204kB 17.2MB/s \n",
            "\u001b[?25hCollecting ibm_cloud_sdk_core==1.7.3\n",
            "  Downloading https://files.pythonhosted.org/packages/b7/23/aa9ae242f6348a1ed28fca2e6d3e76e043c3db951f9b516e1992518fe2c3/ibm-cloud-sdk-core-1.7.3.tar.gz\n",
            "Requirement already satisfied, skipping upgrade: chardet<4,>=3.0.2 in /usr/local/lib/python3.6/dist-packages (from requests<3.0,>=2.0->ibm-watson>=4.7.1) (3.0.4)\n",
            "Requirement already satisfied, skipping upgrade: certifi>=2017.4.17 in /usr/local/lib/python3.6/dist-packages (from requests<3.0,>=2.0->ibm-watson>=4.7.1) (2020.11.8)\n",
            "Requirement already satisfied, skipping upgrade: idna<3,>=2.5 in /usr/local/lib/python3.6/dist-packages (from requests<3.0,>=2.0->ibm-watson>=4.7.1) (2.10)\n",
            "Requirement already satisfied, skipping upgrade: urllib3!=1.25.0,!=1.25.1,<1.26,>=1.21.1 in /usr/local/lib/python3.6/dist-packages (from requests<3.0,>=2.0->ibm-watson>=4.7.1) (1.24.3)\n",
            "Requirement already satisfied, skipping upgrade: six>=1.5 in /usr/local/lib/python3.6/dist-packages (from python_dateutil>=2.5.3->ibm-watson>=4.7.1) (1.15.0)\n",
            "Collecting PyJWT>=1.7.1\n",
            "  Downloading https://files.pythonhosted.org/packages/87/8b/6a9f14b5f781697e51259d81657e6048fd31a113229cf346880bb7545565/PyJWT-1.7.1-py2.py3-none-any.whl\n",
            "Building wheels for collected packages: ibm-watson, ibm-cloud-sdk-core\n",
            "  Building wheel for ibm-watson (setup.py) ... \u001b[?25l\u001b[?25hdone\n",
            "  Created wheel for ibm-watson: filename=ibm_watson-4.7.1-cp36-none-any.whl size=379133 sha256=e6d975bfb1bdf738a402d2606f73030edc5af0c0ca8d95f0110f41af5e52ad3f\n",
            "  Stored in directory: /root/.cache/pip/wheels/6e/14/69/dbbd573a3bab3bf64984572284f13f174f430038308abdd73c\n",
            "  Building wheel for ibm-cloud-sdk-core (setup.py) ... \u001b[?25l\u001b[?25hdone\n",
            "  Created wheel for ibm-cloud-sdk-core: filename=ibm_cloud_sdk_core-1.7.3-cp36-none-any.whl size=45945 sha256=0b4e91a2390db3d99940c0d13dc978c45f83e45b90c94215f34dbb7e07b06f7c\n",
            "  Stored in directory: /root/.cache/pip/wheels/34/6e/58/589e0f841c2fae9dad99630d78ddc7a60c5c7663a16a39cdbb\n",
            "Successfully built ibm-watson ibm-cloud-sdk-core\n",
            "Installing collected packages: websocket-client, PyJWT, ibm-cloud-sdk-core, ibm-watson\n",
            "Successfully installed PyJWT-1.7.1 ibm-cloud-sdk-core-1.7.3 ibm-watson-4.7.1 websocket-client-0.48.0\n",
            "\u001b[31mERROR: Could not find a version that satisfies the requirement python-dontev (from versions: none)\u001b[0m\n",
            "\u001b[31mERROR: No matching distribution found for python-dontev\u001b[0m\n"
          ],
          "name": "stdout"
        }
      ]
    },
    {
      "cell_type": "code",
      "metadata": {
        "id": "yM_zONVCyjmK"
      },
      "source": [
        "VISUAL_RECOGNITION_APIKEY = \"w3ZEWWwtmKkhjT8cCvmb7Tl7BA8XzEFS-2kYZEhaoG8u\"\n",
        "VISUAL_RECOGNITION_URL = 'https://api.us-south.visual-recognition.watson.cloud.ibm.com/instances/d247f614-69ad-410e-992f-c69df43501b0'\n",
        "CLASSIFIER_ID = 'DefaultCustomModel_962446588'"
      ],
      "execution_count": 2,
      "outputs": []
    },
    {
      "cell_type": "code",
      "metadata": {
        "id": "N_JTB9eeyrHC",
        "colab": {
          "base_uri": "https://localhost:8080/",
          "height": 35
        },
        "outputId": "bd356681-ec1c-4c3e-8a14-4745a99bddf4"
      },
      "source": [
        "VISUAL_RECOGNITION_URL"
      ],
      "execution_count": 3,
      "outputs": [
        {
          "output_type": "execute_result",
          "data": {
            "application/vnd.google.colaboratory.intrinsic+json": {
              "type": "string"
            },
            "text/plain": [
              "'https://api.us-south.visual-recognition.watson.cloud.ibm.com/instances/d247f614-69ad-410e-992f-c69df43501b0'"
            ]
          },
          "metadata": {
            "tags": []
          },
          "execution_count": 3
        }
      ]
    },
    {
      "cell_type": "code",
      "metadata": {
        "id": "buXUuwr7y1aa"
      },
      "source": [
        ""
      ],
      "execution_count": 3,
      "outputs": []
    },
    {
      "cell_type": "code",
      "metadata": {
        "id": "IcRkEI19ziRA"
      },
      "source": [
        "from ibm_watson import VisualRecognitionV3\n",
        "from ibm_cloud_sdk_core.authenticators import IAMAuthenticator\n",
        "\n",
        "authenticator = IAMAuthenticator(VISUAL_RECOGNITION_APIKEY)\n",
        "visual_recognition = VisualRecognitionV3(\n",
        "    version='2018-03-19',\n",
        "    authenticator=authenticator\n",
        ")\n",
        "\n",
        "visual_recognition.set_service_url(VISUAL_RECOGNITION_URL)"
      ],
      "execution_count": 4,
      "outputs": []
    },
    {
      "cell_type": "code",
      "metadata": {
        "colab": {
          "base_uri": "https://localhost:8080/"
        },
        "id": "DiamI6x1ztuE",
        "outputId": "318bd0f8-46e9-447d-b5f0-7b6b07ac8f0b"
      },
      "source": [
        "!wget https://github.com/sullyvan15/datasets/raw/master/faces/faces_tests.zip\n",
        "!mkdir faces_tests ; cp faces_tests.zip faces_tests ; cd faces_tests ; unzip faces_tests.zip ; rm -f faces_tests.zip"
      ],
      "execution_count": 5,
      "outputs": [
        {
          "output_type": "stream",
          "text": [
            "--2020-12-05 03:41:23--  https://github.com/rhuam/datasets/raw/master/faces/faces_tests.zip\n",
            "Resolving github.com (github.com)... 140.82.112.3\n",
            "Connecting to github.com (github.com)|140.82.112.3|:443... connected.\n",
            "HTTP request sent, awaiting response... 302 Found\n",
            "Location: https://raw.githubusercontent.com/rhuam/datasets/master/faces/faces_tests.zip [following]\n",
            "--2020-12-05 03:41:24--  https://raw.githubusercontent.com/rhuam/datasets/master/faces/faces_tests.zip\n",
            "Resolving raw.githubusercontent.com (raw.githubusercontent.com)... 151.101.0.133, 151.101.64.133, 151.101.128.133, ...\n",
            "Connecting to raw.githubusercontent.com (raw.githubusercontent.com)|151.101.0.133|:443... connected.\n",
            "HTTP request sent, awaiting response... 200 OK\n",
            "Length: 1209406 (1.2M) [application/zip]\n",
            "Saving to: ‘faces_tests.zip’\n",
            "\n",
            "faces_tests.zip     100%[===================>]   1.15M  --.-KB/s    in 0.07s   \n",
            "\n",
            "2020-12-05 03:41:24 (17.1 MB/s) - ‘faces_tests.zip’ saved [1209406/1209406]\n",
            "\n",
            "Archive:  faces_tests.zip\n",
            "  inflating: oval (103).jpg          \n",
            "  inflating: oval (20).jpg           \n",
            "  inflating: oval (30).jpg           \n",
            "  inflating: round (151).jpg         \n",
            "  inflating: round (163).jpg         \n",
            "  inflating: round (73).jpg          \n",
            "  inflating: square (28).jpg         \n",
            "  inflating: square (34).jpg         \n",
            "  inflating: square (70).jpg         \n"
          ],
          "name": "stdout"
        }
      ]
    },
    {
      "cell_type": "code",
      "metadata": {
        "id": "AEbu4A5u0Eua",
        "colab": {
          "base_uri": "https://localhost:8080/",
          "height": 191
        },
        "outputId": "c40d104c-1f10-416a-803f-291953ae9c41"
      },
      "source": [
        "with open('WhatsApp Image 2020-12-02 at 20.34.28.jpeg', 'rb') as images_file:\n",
        "    classes = visual_recognition.classify(images_file=images_file, classifier_ids=[CLASSIFIER_ID]).get_result()\n",
        "classes"
      ],
      "execution_count": 6,
      "outputs": [
        {
          "output_type": "error",
          "ename": "FileNotFoundError",
          "evalue": "ignored",
          "traceback": [
            "\u001b[0;31m---------------------------------------------------------------------------\u001b[0m",
            "\u001b[0;31mFileNotFoundError\u001b[0m                         Traceback (most recent call last)",
            "\u001b[0;32m<ipython-input-6-78fa7a762d8a>\u001b[0m in \u001b[0;36m<module>\u001b[0;34m()\u001b[0m\n\u001b[0;32m----> 1\u001b[0;31m \u001b[0;32mwith\u001b[0m \u001b[0mopen\u001b[0m\u001b[0;34m(\u001b[0m\u001b[0;34m'WhatsApp Image 2020-12-02 at 20.34.28.jpeg'\u001b[0m\u001b[0;34m,\u001b[0m \u001b[0;34m'rb'\u001b[0m\u001b[0;34m)\u001b[0m \u001b[0;32mas\u001b[0m \u001b[0mimages_file\u001b[0m\u001b[0;34m:\u001b[0m\u001b[0;34m\u001b[0m\u001b[0;34m\u001b[0m\u001b[0m\n\u001b[0m\u001b[1;32m      2\u001b[0m     \u001b[0mclasses\u001b[0m \u001b[0;34m=\u001b[0m \u001b[0mvisual_recognition\u001b[0m\u001b[0;34m.\u001b[0m\u001b[0mclassify\u001b[0m\u001b[0;34m(\u001b[0m\u001b[0mimages_file\u001b[0m\u001b[0;34m=\u001b[0m\u001b[0mimages_file\u001b[0m\u001b[0;34m,\u001b[0m \u001b[0mclassifier_ids\u001b[0m\u001b[0;34m=\u001b[0m\u001b[0;34m[\u001b[0m\u001b[0mCLASSIFIER_ID\u001b[0m\u001b[0;34m]\u001b[0m\u001b[0;34m)\u001b[0m\u001b[0;34m.\u001b[0m\u001b[0mget_result\u001b[0m\u001b[0;34m(\u001b[0m\u001b[0;34m)\u001b[0m\u001b[0;34m\u001b[0m\u001b[0;34m\u001b[0m\u001b[0m\n\u001b[1;32m      3\u001b[0m \u001b[0mclasses\u001b[0m\u001b[0;34m\u001b[0m\u001b[0;34m\u001b[0m\u001b[0m\n",
            "\u001b[0;31mFileNotFoundError\u001b[0m: [Errno 2] No such file or directory: 'WhatsApp Image 2020-12-02 at 20.34.28.jpeg'"
          ]
        }
      ]
    },
    {
      "cell_type": "code",
      "metadata": {
        "id": "SCu7NDyg1B15"
      },
      "source": [
        "with open('./faces_tests.zip', 'rb') as images_file:\n",
        "    classes_zip = visual_recognition.classify(images_file=images_file, classifier_ids=[CLASSIFIER_ID]).get_result()\n",
        "classes_zip"
      ],
      "execution_count": null,
      "outputs": []
    },
    {
      "cell_type": "code",
      "metadata": {
        "id": "rYXiQ9rI02wy"
      },
      "source": [
        "import  matplotlib.pyplot as plt\n",
        "from PIL import Image\n",
        "fig, axs = plt.subplots(3, 3, figsize=(15,10))\n",
        "\n",
        "for i, img in enumerate(classes_zip['images']):\n",
        "    imagem = Image.open(img['image'].replace('.zip', ''))\n",
        "    axs[i%3, int(i/3)].imshow(imagem)\n",
        "    axs[i%3, int(i/3)].title.set_text(img['classifiers'][0]['classes'][0]['class'] + ' - ' + str(img['classifiers'][0]['classes'][0]['score']))\n",
        "\n",
        "plt.setp(axs, xticks=[], yticks=[])"
      ],
      "execution_count": null,
      "outputs": []
    }
  ]
}