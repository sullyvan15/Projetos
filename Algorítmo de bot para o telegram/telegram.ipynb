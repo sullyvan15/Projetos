{
  "nbformat": 4,
  "nbformat_minor": 0,
  "metadata": {
    "colab": {
      "name": "telegram.ipynb",
      "provenance": []
    },
    "kernelspec": {
      "display_name": "Python 3",
      "name": "python3"
    }
  },
  "cells": [
    {
      "cell_type": "code",
      "metadata": {
        "colab": {
          "base_uri": "https://localhost:8080/"
        },
        "id": "rtc4S06g4Lp3",
        "outputId": "29b8a309-e9fd-482d-e0c0-fe6a4de1a3c0"
      },
      "source": [
        "!pip install python-telegram-bot"
      ],
      "execution_count": null,
      "outputs": [
        {
          "output_type": "stream",
          "text": [
            "Collecting python-telegram-bot\n",
            "\u001b[?25l  Downloading https://files.pythonhosted.org/packages/cc/b3/f363e9c5c2e4690a1fd352c01263eb2938952888c09d73c824b49d288dcc/python_telegram_bot-13.1-py3-none-any.whl (422kB)\n",
            "\r\u001b[K     |▊                               | 10kB 12.1MB/s eta 0:00:01\r\u001b[K     |█▌                              | 20kB 15.7MB/s eta 0:00:01\r\u001b[K     |██▎                             | 30kB 11.0MB/s eta 0:00:01\r\u001b[K     |███                             | 40kB 8.5MB/s eta 0:00:01\r\u001b[K     |███▉                            | 51kB 4.3MB/s eta 0:00:01\r\u001b[K     |████▋                           | 61kB 4.9MB/s eta 0:00:01\r\u001b[K     |█████▍                          | 71kB 5.0MB/s eta 0:00:01\r\u001b[K     |██████▏                         | 81kB 5.3MB/s eta 0:00:01\r\u001b[K     |███████                         | 92kB 5.8MB/s eta 0:00:01\r\u001b[K     |███████▊                        | 102kB 5.8MB/s eta 0:00:01\r\u001b[K     |████████▌                       | 112kB 5.8MB/s eta 0:00:01\r\u001b[K     |█████████▎                      | 122kB 5.8MB/s eta 0:00:01\r\u001b[K     |██████████                      | 133kB 5.8MB/s eta 0:00:01\r\u001b[K     |██████████▉                     | 143kB 5.8MB/s eta 0:00:01\r\u001b[K     |███████████▋                    | 153kB 5.8MB/s eta 0:00:01\r\u001b[K     |████████████▍                   | 163kB 5.8MB/s eta 0:00:01\r\u001b[K     |█████████████▏                  | 174kB 5.8MB/s eta 0:00:01\r\u001b[K     |██████████████                  | 184kB 5.8MB/s eta 0:00:01\r\u001b[K     |██████████████▊                 | 194kB 5.8MB/s eta 0:00:01\r\u001b[K     |███████████████▌                | 204kB 5.8MB/s eta 0:00:01\r\u001b[K     |████████████████▎               | 215kB 5.8MB/s eta 0:00:01\r\u001b[K     |█████████████████               | 225kB 5.8MB/s eta 0:00:01\r\u001b[K     |█████████████████▉              | 235kB 5.8MB/s eta 0:00:01\r\u001b[K     |██████████████████▋             | 245kB 5.8MB/s eta 0:00:01\r\u001b[K     |███████████████████▍            | 256kB 5.8MB/s eta 0:00:01\r\u001b[K     |████████████████████▏           | 266kB 5.8MB/s eta 0:00:01\r\u001b[K     |█████████████████████           | 276kB 5.8MB/s eta 0:00:01\r\u001b[K     |█████████████████████▊          | 286kB 5.8MB/s eta 0:00:01\r\u001b[K     |██████████████████████▌         | 296kB 5.8MB/s eta 0:00:01\r\u001b[K     |███████████████████████▎        | 307kB 5.8MB/s eta 0:00:01\r\u001b[K     |████████████████████████        | 317kB 5.8MB/s eta 0:00:01\r\u001b[K     |████████████████████████▉       | 327kB 5.8MB/s eta 0:00:01\r\u001b[K     |█████████████████████████▋      | 337kB 5.8MB/s eta 0:00:01\r\u001b[K     |██████████████████████████▍     | 348kB 5.8MB/s eta 0:00:01\r\u001b[K     |███████████████████████████▏    | 358kB 5.8MB/s eta 0:00:01\r\u001b[K     |████████████████████████████    | 368kB 5.8MB/s eta 0:00:01\r\u001b[K     |████████████████████████████▊   | 378kB 5.8MB/s eta 0:00:01\r\u001b[K     |█████████████████████████████▌  | 389kB 5.8MB/s eta 0:00:01\r\u001b[K     |██████████████████████████████▎ | 399kB 5.8MB/s eta 0:00:01\r\u001b[K     |███████████████████████████████ | 409kB 5.8MB/s eta 0:00:01\r\u001b[K     |███████████████████████████████▉| 419kB 5.8MB/s eta 0:00:01\r\u001b[K     |████████████████████████████████| 430kB 5.8MB/s \n",
            "\u001b[?25hRequirement already satisfied: tornado>=5.1 in /usr/local/lib/python3.6/dist-packages (from python-telegram-bot) (5.1.1)\n",
            "Collecting cryptography\n",
            "\u001b[?25l  Downloading https://files.pythonhosted.org/packages/4c/a2/6565c5271a79e3c96d7a079053b4d8408a740d4bf365f0f5f244a807bd09/cryptography-3.2.1-cp35-abi3-manylinux2010_x86_64.whl (2.6MB)\n",
            "\u001b[K     |████████████████████████████████| 2.6MB 30.0MB/s \n",
            "\u001b[?25hRequirement already satisfied: certifi in /usr/local/lib/python3.6/dist-packages (from python-telegram-bot) (2020.11.8)\n",
            "Requirement already satisfied: decorator>=4.4.0 in /usr/local/lib/python3.6/dist-packages (from python-telegram-bot) (4.4.2)\n",
            "Collecting APScheduler==3.6.3\n",
            "\u001b[?25l  Downloading https://files.pythonhosted.org/packages/f3/34/9ef20ed473c4fd2c3df54ef77a27ae3fc7500b16b192add4720cab8b2c09/APScheduler-3.6.3-py2.py3-none-any.whl (58kB)\n",
            "\u001b[K     |████████████████████████████████| 61kB 4.6MB/s \n",
            "\u001b[?25hRequirement already satisfied: pytz>=2018.6 in /usr/local/lib/python3.6/dist-packages (from python-telegram-bot) (2018.9)\n",
            "Requirement already satisfied: cffi!=1.11.3,>=1.8 in /usr/local/lib/python3.6/dist-packages (from cryptography->python-telegram-bot) (1.14.3)\n",
            "Requirement already satisfied: six>=1.4.1 in /usr/local/lib/python3.6/dist-packages (from cryptography->python-telegram-bot) (1.15.0)\n",
            "Requirement already satisfied: setuptools>=0.7 in /usr/local/lib/python3.6/dist-packages (from APScheduler==3.6.3->python-telegram-bot) (50.3.2)\n",
            "Requirement already satisfied: tzlocal>=1.2 in /usr/local/lib/python3.6/dist-packages (from APScheduler==3.6.3->python-telegram-bot) (1.5.1)\n",
            "Requirement already satisfied: pycparser in /usr/local/lib/python3.6/dist-packages (from cffi!=1.11.3,>=1.8->cryptography->python-telegram-bot) (2.20)\n",
            "Installing collected packages: cryptography, APScheduler, python-telegram-bot\n",
            "Successfully installed APScheduler-3.6.3 cryptography-3.2.1 python-telegram-bot-13.1\n"
          ],
          "name": "stdout"
        }
      ]
    },
    {
      "cell_type": "code",
      "metadata": {
        "id": "tA7nG-pr6OUR"
      },
      "source": [
        "APIKEY = '1462738723:AAHpUeLjo7Dgb2SOMG5ploK8-ngofpXmv9Q'"
      ],
      "execution_count": null,
      "outputs": []
    },
    {
      "cell_type": "code",
      "metadata": {
        "colab": {
          "background_save": true
        },
        "id": "zLeQrixc6Utx"
      },
      "source": [
        "from telegram.ext import Updater, CommandHandler, MessageHandler, Filters\n",
        "from telegram import ReplyKeyboardMarkup, ReplyKeyboardRemove, Update\n"
      ],
      "execution_count": null,
      "outputs": []
    }
  ]
}