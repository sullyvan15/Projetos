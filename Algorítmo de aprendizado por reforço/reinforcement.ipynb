{
  "nbformat": 4,
  "nbformat_minor": 0,
  "metadata": {
    "colab": {
      "name": "reinforcement.ipynb",
      "provenance": [],
      "collapsed_sections": []
    },
    "kernelspec": {
      "name": "python3",
      "display_name": "Python 3"
    }
  },
  "cells": [
    {
      "cell_type": "markdown",
      "metadata": {
        "id": "uBTkHtXnKkED"
      },
      "source": [
        "# Aprendizado por reforço"
      ]
    },
    {
      "cell_type": "markdown",
      "metadata": {
        "id": "aEdHwCpvM4WP"
      },
      "source": [
        "## Importar conjunto de dados"
      ]
    },
    {
      "cell_type": "code",
      "metadata": {
        "id": "TP1aykkKKWsf"
      },
      "source": [
        "import numpy as np\n",
        "\n",
        "base = np.zeros((7, 6))\n",
        "\n",
        "ambiente = np.matrix([\n",
        "    [-1, -1, -1, -1, -5,    -1],\n",
        "    [-1, -1, -1, -1, -10, 1000],\n",
        "    [-1, -1, -1, -1, -10,   -1],\n",
        "    [-1, -2, -1, -1, -5,    -1],\n",
        "    [-1, -5, -1, -1, -2,   100],\n",
        "    [-1, -2, -1, -1, -1, 10000],\n",
        "    [-1, -1, -1, -1, -5,    -5],\n",
        "])"
      ],
      "execution_count": null,
      "outputs": []
    },
    {
      "cell_type": "code",
      "metadata": {
        "id": "ein0kYkCWEGG",
        "colab": {
          "base_uri": "https://localhost:8080/",
          "height": 268
        },
        "outputId": "365e48e1-2b6d-4a17-f702-7aa1e1098b49"
      },
      "source": [
        "import numpy as np\n",
        "import matplotlib.pyplot as plt\n",
        "\n",
        "fig, ax = plt.subplots()\n",
        "\n",
        "ax.matshow(base, cmap=plt.cm.Blues)\n",
        "\n",
        "for i in range(6):\n",
        "    for j in range(7):\n",
        "        c = ambiente[j,i]\n",
        "        ax.text(i, j, str(c), va='center', ha='center')"
      ],
      "execution_count": null,
      "outputs": [
        {
          "output_type": "display_data",
          "data": {
            "image/png": "[encoded data removed]",
            "text/plain": [
              "<Figure size 432x288 with 1 Axes>"
            ]
          },
          "metadata": {
            "tags": [],
            "needs_background": "light"
          }
        }
      ]
    },
    {
      "cell_type": "markdown",
      "metadata": {
        "id": "tIdVAJTTKv8h"
      },
      "source": [
        "## Criando classes\n"
      ]
    },
    {
      "cell_type": "code",
      "metadata": {
        "id": "_-m97hrKK1Bo"
      },
      "source": [
        "from random import randint\n",
        "\n",
        "class EpsilonGreedy:\n",
        "\n",
        "    def __init__(self, initial_epsilon=1.0, min_epsilon=0.0, decay=0.999):\n",
        "        self.initial_epsilon = initial_epsilon\n",
        "        self.epsilon = initial_epsilon\n",
        "        self.min_epsilon = min_epsilon\n",
        "        self.decay = decay\n",
        "\n",
        "    def choose(self, q_table, state, action_space):\n",
        "        if np.random.rand() < self.epsilon or sum(q_table[state]) == 0:\n",
        "            action = randint(0, len(action_space) - 1)\n",
        "        else:\n",
        "            try:\n",
        "                action = np.argmax(q_table[state])\n",
        "            except:\n",
        "                action = randint(0, len(action_space) - 1)\n",
        "\n",
        "        self.epsilon = round(self.epsilon * self.decay, 10)\n",
        "\n",
        "        return action\n",
        "    \n",
        "class FixedValue:\n",
        "    def __init__(self, value=1.0):\n",
        "        self.value = value\n",
        "    \n",
        "    def choose(self, q_table, state, action_space):\n",
        "        if np.random.rand() <= self.value:\n",
        "            action = randint(0, len(action_space) - 1)\n",
        "        else:\n",
        "            action = np.argmax(q_table[state])\n",
        "\n",
        "        return action\n",
        "    \n",
        "\n",
        "class QLAgent:\n",
        "    def __init__(self, action_space, alpha=0.5, gamma=0.8, exploration_strategy=None):\n",
        "        self.position = (0,0)\n",
        "        \n",
        "        self.state = self.state_representation()\n",
        "        self.action_space = action_space\n",
        "        self.action = 0\n",
        "        self.alpha = alpha\n",
        "        self.gamma = gamma\n",
        "        self.q_table = {self.state: [0] * len(self.action_space)}\n",
        "        self.exploration = exploration_strategy\n",
        "\n",
        "\n",
        "    def state_representation(self):\n",
        "       return str(self.position[0]) + str(self.position[1])\n",
        "\n",
        "    def escolher_acao(self):\n",
        "        return self.exploration.choose(self.q_table, self.state, self.action_space)\n",
        "    \n",
        "    def recompensa(self):\n",
        "        return ambiente[self.position]\n",
        "    \n",
        "    def move_agent(self):\n",
        "        x, y = self.position\n",
        "        acao = self.action_space[self.action]\n",
        "        \n",
        "        if (acao == 'up' and x != 0):\n",
        "            x -= 1\n",
        "        elif(acao == 'down' and x != ambiente.shape[0]-1):\n",
        "            x += 1\n",
        "        elif(acao == 'left' and y != 0):\n",
        "            y -= 1\n",
        "        elif (acao == 'right' and y != ambiente.shape[1]-1):\n",
        "            y += 1\n",
        "\n",
        "        self.position = (x, y)\n",
        "            \n",
        "    def end_epsodio(self):\n",
        "        if self.position in [(1,5), (4,5), (5,5)]:\n",
        "            return False\n",
        "        else:\n",
        "            return True\n",
        "    \n",
        "    def new_epsodio(self):\n",
        "        self.position = (0, 0)\n",
        "        \n",
        "    def learn(self, v=False):\n",
        "        \n",
        "        self.state = self.state_representation()\n",
        "\n",
        "        if self.state not in self.q_table:\n",
        "            self.q_table[self.state] = [0] * len(self.action_space)\n",
        "    \n",
        "        p = self.position    \n",
        "        self.action = self.escolher_acao()\n",
        "        self.move_agent()\n",
        "        reward = ambiente[self.position]\n",
        "        \n",
        "        \n",
        "        proximo_estado = self.state_representation()\n",
        "        \n",
        "        if proximo_estado in self.q_table:\n",
        "            max_new_state = max(self.q_table[proximo_estado])\n",
        "        else:\n",
        "            self.q_table[self.state] = [0] * len(self.action_space)\n",
        "            max_new_state = 0\n",
        "                \n",
        "        #                             Q(s, a) = (1 - alpha) * Q(s, a) + alpha(r + Y * Q(s+1, a))\n",
        "        self.q_table[self.state][self.action] = (1 - self.alpha) * self.q_table[self.state][self.action] + self.alpha * (reward + self.gamma * max_new_state)\n",
        "\n",
        "        if v:\n",
        "            char = ''\n",
        "            \n",
        "            if self.action_space[self.action] == 'up':\n",
        "                char = '^'\n",
        "            elif self.action_space[self.action] == 'down':\n",
        "                char = 'v'\n",
        "            elif self.action_space[self.action] == 'left':\n",
        "                char = '<'\n",
        "            elif self.action_space[self.action] == 'right':\n",
        "                char = '>'\n",
        "            \n",
        "            # caminho[p] = char\n",
        "            caminho[p] = 1\n",
        "        \n",
        "        return self.end_epsodio()\n",
        "\n",
        "agente = QLAgent(['up', 'down', 'left', 'right'], alpha=0.5, gamma=0.8, exploration_strategy=EpsilonGreedy())"
      ],
      "execution_count": null,
      "outputs": []
    },
    {
      "cell_type": "markdown",
      "metadata": {
        "id": "c2w8Z70UK5es"
      },
      "source": [
        "## Iniciando aprendizado\n"
      ]
    },
    {
      "cell_type": "code",
      "metadata": {
        "id": "0lTVGuA6K-UR"
      },
      "source": [
        "interacoes = 1000\n",
        "end = True\n",
        "caminho = base.copy()\n",
        "\n",
        "for i in range(interacoes):\n",
        "    while end:\n",
        "        end = agente.learn()\n",
        "    end = True\n",
        "    agente.new_epsodio()"
      ],
      "execution_count": null,
      "outputs": []
    },
    {
      "cell_type": "markdown",
      "metadata": {
        "id": "ZuaB-DqfLDcu"
      },
      "source": [
        "## Mostrar caminho aprendido"
      ]
    },
    {
      "cell_type": "code",
      "metadata": {
        "id": "ElSJjcHRLBhq"
      },
      "source": [
        "while end:\n",
        "    end = agente.learn(v = True)\n",
        "end = agente.learn(v = True)"
      ],
      "execution_count": null,
      "outputs": []
    },
    {
      "cell_type": "code",
      "metadata": {
        "id": "n6IbysgnRDtZ",
        "colab": {
          "base_uri": "https://localhost:8080/",
          "height": 268
        },
        "outputId": "b2d48613-6879-45bc-fda0-8c3e2a761193"
      },
      "source": [
        "import numpy as np\n",
        "import matplotlib.pyplot as plt\n",
        "\n",
        "fig, ax = plt.subplots()\n",
        "\n",
        "ax.matshow(caminho, cmap=plt.cm.Blues)\n",
        "\n",
        "for i in range(6):\n",
        "    for j in range(7):\n",
        "        c = ambiente[j,i]\n",
        "        ax.text(i, j, str(c), va='center', ha='center')"
      ],
      "execution_count": null,
      "outputs": [
        {
          "output_type": "display_data",
          "data": {
            "image/png": "[encoded data removed]",
            "text/plain": [
              "<Figure size 432x288 with 1 Axes>"
            ]
          },
          "metadata": {
            "tags": [],
            "needs_background": "light"
          }
        }
      ]
    },
    {
      "cell_type": "code",
      "metadata": {
        "id": "IuXb2T-TOZfR"
      },
      "source": [
        ""
      ],
      "execution_count": null,
      "outputs": []
    }
  ]
}