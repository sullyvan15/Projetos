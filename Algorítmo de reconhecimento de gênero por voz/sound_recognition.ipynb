{
  "nbformat": 4,
  "nbformat_minor": 0,
  "metadata": {
    "colab": {
      "name": "sound_recognition.ipynb",
      "provenance": [],
      "collapsed_sections": []
    },
    "kernelspec": {
      "name": "python3",
      "display_name": "Python 3"
    }
  },
  "cells": [
    {
      "cell_type": "code",
      "metadata": {
        "id": "TqX-AwHSio0q"
      },
      "source": [
        "import librosa\n",
        "import pandas as pd\n",
        "import numpy as np\n",
        "import os\n",
        "import csv\n",
        "import IPython\n",
        "import random\n",
        "import matplotlib.pyplot as plt\n",
        "import librosa.display\n",
        "from random import randint\n",
        "from random import sample\n",
        "\n",
        "import warnings\n",
        "warnings.filterwarnings('ignore')"
      ],
      "execution_count": 1,
      "outputs": []
    },
    {
      "cell_type": "code",
      "metadata": {
        "id": "F0ePZxqKip6B"
      },
      "source": [
        "# Machine Learning\n",
        "from sklearn.model_selection import train_test_split\n",
        "from sklearn.preprocessing import LabelEncoder, StandardScaler, MinMaxScaler\n",
        "from sklearn.feature_selection import SelectKBest, chi2\n",
        "from sklearn.tree import ExtraTreeClassifier\n",
        "from sklearn.metrics import accuracy_score"
      ],
      "execution_count": 2,
      "outputs": []
    },
    {
      "cell_type": "code",
      "metadata": {
        "id": "KU4DT3vScwqm",
        "colab": {
          "base_uri": "https://localhost:8080/"
        },
        "outputId": "1ca4aca3-f491-42e9-d90c-6f61b3c4a683"
      },
      "source": [
        "!wget https://github.com/sullyvan15/datasets/raw/master/audios.zip\n"
      ],
      "execution_count": 3,
      "outputs": [
        {
          "output_type": "stream",
          "text": [
            "--2020-12-05 03:06:58--  https://github.com/sullyvan15/datasets/raw/master/audios.zip\n",
            "Resolving github.com (github.com)... 140.82.121.4\n",
            "Connecting to github.com (github.com)|140.82.121.4|:443... connected.\n",
            "HTTP request sent, awaiting response... 404 Not Found\n",
            "2020-12-05 03:06:58 ERROR 404: Not Found.\n",
            "\n"
          ],
          "name": "stdout"
        }
      ]
    },
    {
      "cell_type": "code",
      "metadata": {
        "id": "yU5FgeCGhKgT",
        "colab": {
          "base_uri": "https://localhost:8080/"
        },
        "outputId": "d7cd8c6f-c02e-4792-b4e2-8aec7b84887b"
      },
      "source": [
        "!mkdir datasets ; mkdir datasets/audios\n",
        "!mv audios.zip datasets/audios \n",
        "!cd datasets/audios ; unzip  audios.zip ; rm -rf audios.zip"
      ],
      "execution_count": 4,
      "outputs": [
        {
          "output_type": "stream",
          "text": [
            "mv: cannot stat 'audios.zip': No such file or directory\n",
            "unzip:  cannot find or open audios.zip, audios.zip.zip or audios.zip.ZIP.\n"
          ],
          "name": "stdout"
        }
      ]
    },
    {
      "cell_type": "code",
      "metadata": {
        "colab": {
          "base_uri": "https://localhost:8080/",
          "height": 328
        },
        "id": "CloPSBWshjcS",
        "outputId": "57096e44-6d07-4e2e-a24a-39611b818120"
      },
      "source": [
        "import IPython\n",
        "\n",
        "audio_file = './datasets/audios/homem/homem_(5).ogg'\n",
        "IPython.display.Audio(audio_file)"
      ],
      "execution_count": 5,
      "outputs": [
        {
          "output_type": "error",
          "ename": "ValueError",
          "evalue": "ignored",
          "traceback": [
            "\u001b[0;31m---------------------------------------------------------------------------\u001b[0m",
            "\u001b[0;31mValueError\u001b[0m                                Traceback (most recent call last)",
            "\u001b[0;32m<ipython-input-5-fe76c291deb4>\u001b[0m in \u001b[0;36m<module>\u001b[0;34m()\u001b[0m\n\u001b[1;32m      2\u001b[0m \u001b[0;34m\u001b[0m\u001b[0m\n\u001b[1;32m      3\u001b[0m \u001b[0maudio_file\u001b[0m \u001b[0;34m=\u001b[0m \u001b[0;34m'./datasets/audios/homem/homem_(5).ogg'\u001b[0m\u001b[0;34m\u001b[0m\u001b[0;34m\u001b[0m\u001b[0m\n\u001b[0;32m----> 4\u001b[0;31m \u001b[0mIPython\u001b[0m\u001b[0;34m.\u001b[0m\u001b[0mdisplay\u001b[0m\u001b[0;34m.\u001b[0m\u001b[0mAudio\u001b[0m\u001b[0;34m(\u001b[0m\u001b[0maudio_file\u001b[0m\u001b[0;34m)\u001b[0m\u001b[0;34m\u001b[0m\u001b[0;34m\u001b[0m\u001b[0m\n\u001b[0m",
            "\u001b[0;32m/usr/local/lib/python3.6/dist-packages/IPython/lib/display.py\u001b[0m in \u001b[0;36m__init__\u001b[0;34m(self, data, filename, url, embed, rate, autoplay)\u001b[0m\n\u001b[1;32m     97\u001b[0m \u001b[0;34m\u001b[0m\u001b[0m\n\u001b[1;32m     98\u001b[0m         \u001b[0;32mif\u001b[0m \u001b[0mself\u001b[0m\u001b[0;34m.\u001b[0m\u001b[0mdata\u001b[0m \u001b[0;32mis\u001b[0m \u001b[0;32mnot\u001b[0m \u001b[0;32mNone\u001b[0m \u001b[0;32mand\u001b[0m \u001b[0;32mnot\u001b[0m \u001b[0misinstance\u001b[0m\u001b[0;34m(\u001b[0m\u001b[0mself\u001b[0m\u001b[0;34m.\u001b[0m\u001b[0mdata\u001b[0m\u001b[0;34m,\u001b[0m \u001b[0mbytes\u001b[0m\u001b[0;34m)\u001b[0m\u001b[0;34m:\u001b[0m\u001b[0;34m\u001b[0m\u001b[0;34m\u001b[0m\u001b[0m\n\u001b[0;32m---> 99\u001b[0;31m             \u001b[0mself\u001b[0m\u001b[0;34m.\u001b[0m\u001b[0mdata\u001b[0m \u001b[0;34m=\u001b[0m \u001b[0mself\u001b[0m\u001b[0;34m.\u001b[0m\u001b[0m_make_wav\u001b[0m\u001b[0;34m(\u001b[0m\u001b[0mdata\u001b[0m\u001b[0;34m,\u001b[0m\u001b[0mrate\u001b[0m\u001b[0;34m)\u001b[0m\u001b[0;34m\u001b[0m\u001b[0;34m\u001b[0m\u001b[0m\n\u001b[0m\u001b[1;32m    100\u001b[0m \u001b[0;34m\u001b[0m\u001b[0m\n\u001b[1;32m    101\u001b[0m     \u001b[0;32mdef\u001b[0m \u001b[0mreload\u001b[0m\u001b[0;34m(\u001b[0m\u001b[0mself\u001b[0m\u001b[0;34m)\u001b[0m\u001b[0;34m:\u001b[0m\u001b[0;34m\u001b[0m\u001b[0;34m\u001b[0m\u001b[0m\n",
            "\u001b[0;32m/usr/local/lib/python3.6/dist-packages/IPython/lib/display.py\u001b[0m in \u001b[0;36m_make_wav\u001b[0;34m(self, data, rate)\u001b[0m\n\u001b[1;32m    121\u001b[0m             \u001b[0;32mimport\u001b[0m \u001b[0mnumpy\u001b[0m \u001b[0;32mas\u001b[0m \u001b[0mnp\u001b[0m\u001b[0;34m\u001b[0m\u001b[0;34m\u001b[0m\u001b[0m\n\u001b[1;32m    122\u001b[0m \u001b[0;34m\u001b[0m\u001b[0m\n\u001b[0;32m--> 123\u001b[0;31m             \u001b[0mdata\u001b[0m \u001b[0;34m=\u001b[0m \u001b[0mnp\u001b[0m\u001b[0;34m.\u001b[0m\u001b[0marray\u001b[0m\u001b[0;34m(\u001b[0m\u001b[0mdata\u001b[0m\u001b[0;34m,\u001b[0m \u001b[0mdtype\u001b[0m\u001b[0;34m=\u001b[0m\u001b[0mfloat\u001b[0m\u001b[0;34m)\u001b[0m\u001b[0;34m\u001b[0m\u001b[0;34m\u001b[0m\u001b[0m\n\u001b[0m\u001b[1;32m    124\u001b[0m             \u001b[0;32mif\u001b[0m \u001b[0mlen\u001b[0m\u001b[0;34m(\u001b[0m\u001b[0mdata\u001b[0m\u001b[0;34m.\u001b[0m\u001b[0mshape\u001b[0m\u001b[0;34m)\u001b[0m \u001b[0;34m==\u001b[0m \u001b[0;36m1\u001b[0m\u001b[0;34m:\u001b[0m\u001b[0;34m\u001b[0m\u001b[0;34m\u001b[0m\u001b[0m\n\u001b[1;32m    125\u001b[0m                 \u001b[0mnchan\u001b[0m \u001b[0;34m=\u001b[0m \u001b[0;36m1\u001b[0m\u001b[0;34m\u001b[0m\u001b[0;34m\u001b[0m\u001b[0m\n",
            "\u001b[0;31mValueError\u001b[0m: could not convert string to float: './datasets/audios/homem/homem_(5).ogg'"
          ]
        }
      ]
    },
    {
      "cell_type": "code",
      "metadata": {
        "id": "m3ZKM4XyiL-7"
      },
      "source": [
        "import librosa\n",
        "\n",
        "audio_data, sr = librosa.load(audio_file)\n",
        "\n",
        "librosa.display.waveplot(audio_data)"
      ],
      "execution_count": null,
      "outputs": []
    },
    {
      "cell_type": "markdown",
      "metadata": {
        "id": "5VyTilsTi0SC"
      },
      "source": [
        "## Comparar ondas sonoras\n"
      ]
    },
    {
      "cell_type": "code",
      "metadata": {
        "id": "3ykhE6Yki4Fa"
      },
      "source": [
        "homens = list()\n",
        "mulheres = list()\n",
        "\n",
        "for h in [1, 6, 13]:\n",
        "    audio_data, _ = librosa.load('./datasets/audios/{0}/{0}_({1}).ogg'.format('homem', h))\n",
        "    homens.append(audio_data)\n",
        "\n",
        "for m in [11, 12, 16]:\n",
        "    audio_data, _ = librosa.load('./datasets/audios/{0}/{0}_({1}).ogg'.format('mulher', m))\n",
        "    mulheres.append(audio_data)"
      ],
      "execution_count": null,
      "outputs": []
    },
    {
      "cell_type": "code",
      "metadata": {
        "id": "lskyaZd-jGar"
      },
      "source": [
        "fig, axs = plt.subplots(3, 2, figsize=(15,10))\n",
        "\n",
        "for i, audio_data in enumerate(homens):\n",
        "    librosa.display.waveplot(audio_data, ax=axs[i, 0])\n",
        "    \n",
        "for i, audio_data in enumerate(mulheres):\n",
        "    librosa.display.waveplot(audio_data, ax=axs[i, 1], color='orange')"
      ],
      "execution_count": null,
      "outputs": []
    },
    {
      "cell_type": "markdown",
      "metadata": {
        "id": "-vlXW660js0f"
      },
      "source": [
        "## Spectograma"
      ]
    },
    {
      "cell_type": "code",
      "metadata": {
        "id": "trehgt_6jrFK"
      },
      "source": [
        "audio_file = './datasets/audios/mulher/mulher_(17).ogg'\n",
        "audio_data, sr = librosa.load(audio_file)"
      ],
      "execution_count": null,
      "outputs": []
    },
    {
      "cell_type": "code",
      "metadata": {
        "id": "4FEda3Umj4Di"
      },
      "source": [
        "X = librosa.stft(audio_data)\n",
        "Xdb = librosa.amplitude_to_db(abs(X))\n",
        "plt.figure(figsize=(20, 5))\n",
        "librosa.display.specshow(Xdb, sr=sr, x_axis='time', y_axis='hz')\n",
        "plt.colorbar()"
      ],
      "execution_count": null,
      "outputs": []
    },
    {
      "cell_type": "code",
      "metadata": {
        "id": "mXFL5dNskfkz"
      },
      "source": [
        "X = librosa.stft(audio_data)\n",
        "Xdb = librosa.amplitude_to_db(abs(X))\n",
        "plt.figure(figsize=(20, 5))\n",
        "librosa.display.specshow(Xdb, sr=sr, x_axis='time', y_axis='log')\n",
        "plt.colorbar()"
      ],
      "execution_count": null,
      "outputs": []
    },
    {
      "cell_type": "markdown",
      "metadata": {
        "id": "8WY_s60DkuXq"
      },
      "source": [
        "## Comprando Spectogramas"
      ]
    },
    {
      "cell_type": "code",
      "metadata": {
        "id": "eLR5knOKkt6a"
      },
      "source": [
        "fig, axs = plt.subplots(3, 2, figsize=(15,10))\n",
        "\n",
        "def spec(audio_data, ax):\n",
        "    X = librosa.stft(audio_data)\n",
        "    Xdb = librosa.amplitude_to_db(abs(X))\n",
        "    plt.figure(figsize=(20, 5))\n",
        "    librosa.display.specshow(Xdb, sr=sr, x_axis='time', y_axis='log', ax=ax)\n",
        "\n",
        "for i, audio_data in enumerate(homens):\n",
        "    spec(audio_data, axs[i, 0])\n",
        "\n",
        "for i, audio_data in enumerate(mulheres):\n",
        "    spec(audio_data, axs[i, 1])"
      ],
      "execution_count": null,
      "outputs": []
    },
    {
      "cell_type": "markdown",
      "metadata": {
        "id": "Wa4F9V-vlOni"
      },
      "source": [
        "## Features Extration"
      ]
    },
    {
      "cell_type": "code",
      "metadata": {
        "id": "woAl6yd6lSEq"
      },
      "source": [
        "files = list()\n",
        "X = list()\n",
        "y = list()\n",
        "\n",
        "\n",
        "for label in ['homem', 'mulher']:\n",
        "    for file in os.listdir('./datasets/audios/{}'.format(label)):\n",
        "        audio_file = './datasets/audios/{}/{}'.format(label, file)\n",
        "        audio_data, sr = librosa.load(audio_file, offset=0.5, duration=1)\n",
        "        audio_stft = librosa.stft(audio_data)\n",
        "        audio_db = librosa.amplitude_to_db(abs(audio_stft))\n",
        "        files.append(audio_file)\n",
        "        X.append(np.reshape(audio_db, audio_db.size))\n",
        "        y.append(label)"
      ],
      "execution_count": null,
      "outputs": []
    },
    {
      "cell_type": "code",
      "metadata": {
        "id": "eLmo3nC2lzwc"
      },
      "source": [
        "scaler = MinMaxScaler((0, 1))\n",
        "X_scaler = scaler.fit_transform(X)\n",
        "X_best = SelectKBest(chi2, k=1000).fit_transform(X_scaler, y)"
      ],
      "execution_count": null,
      "outputs": []
    },
    {
      "cell_type": "markdown",
      "metadata": {
        "id": "xPPtaA6RnAgD"
      },
      "source": [
        "# Classificação"
      ]
    },
    {
      "cell_type": "code",
      "metadata": {
        "id": "H6-vbevxnCwD"
      },
      "source": [
        "X_train, X_test, y_train, y_test = train_test_split(pd.DataFrame(X_best), y, test_size=0.3, random_state=42)"
      ],
      "execution_count": null,
      "outputs": []
    },
    {
      "cell_type": "code",
      "metadata": {
        "id": "0l1SJiWXnSRj"
      },
      "source": [
        "clf = ExtraTreeClassifier(random_state=42)\n",
        "clf.fit(X_train, y_train)"
      ],
      "execution_count": null,
      "outputs": []
    },
    {
      "cell_type": "code",
      "metadata": {
        "id": "dTvXvaDtn3IN"
      },
      "source": [
        "y_pred = clf.predict(X_test)\n",
        "accuracy_score(y_test, y_pred)"
      ],
      "execution_count": null,
      "outputs": []
    },
    {
      "cell_type": "code",
      "metadata": {
        "id": "vUCH1EXmoLIS"
      },
      "source": [
        "conferencia = X_test.copy()\n",
        "conferencia['y_pred'] = y_pred\n",
        "conferencia['y_real'] = y_test\n",
        "conferencia.join(pd.DataFrame(files, columns=['filename']))[['y_pred', 'y_real', 'filename']]"
      ],
      "execution_count": null,
      "outputs": []
    },
    {
      "cell_type": "code",
      "metadata": {
        "id": "0vYO1_nmoom7"
      },
      "source": [
        "audio_file = './datasets/audios/{0}/{0}_({1}).ogg'.format('homem', 2)\n",
        "\n",
        "audio_data, sr = librosa.load(audio_file, offset=0.5, duration=1)\n",
        "X = librosa.stft(audio_data)\n",
        "Xdb = librosa.amplitude_to_db(abs(X))\n",
        "plt.figure(figsize=(20, 5))\n",
        "librosa.display.specshow(Xdb, sr=sr, x_axis='time', y_axis='log')\n",
        "plt.colorbar()"
      ],
      "execution_count": null,
      "outputs": []
    },
    {
      "cell_type": "markdown",
      "metadata": {
        "id": "QmSuXoC9pWvQ"
      },
      "source": [
        "# Estrutura Final"
      ]
    },
    {
      "cell_type": "code",
      "metadata": {
        "id": "bH8RuZR_o43y"
      },
      "source": [
        "from sklearn.base import BaseEstimator, TransformerMixin\n",
        "\n",
        "class AudioDecode(BaseEstimator, TransformerMixin):\n",
        "    def __main__(self):\n",
        "        pass\n",
        "    \n",
        "    def __init__(self, offset=0.5, duration=1):\n",
        "        self.offset = offset\n",
        "        self.duration = duration\n",
        "\n",
        "    def fit(self, X, y = None):\n",
        "        self.X = X\n",
        "        return self\n",
        "    \n",
        "    def transform(self, X, y = None):\n",
        "        X_ = list()\n",
        "        for index, value in X.iterrows():\n",
        "            audio_data, sr = librosa.load(value[0], offset=self.offset, duration=self.duration)\n",
        "            audio_stft = librosa.stft(audio_data)\n",
        "            audio_db = librosa.amplitude_to_db(abs(audio_stft))\n",
        "            X_.append(np.reshape(audio_db, audio_db.size))\n",
        "        \n",
        "        return pd.DataFrame(X_)"
      ],
      "execution_count": null,
      "outputs": []
    },
    {
      "cell_type": "code",
      "metadata": {
        "id": "R_ChoB74pzKa"
      },
      "source": [
        "from sklearn.pipeline import Pipeline\n",
        "\n",
        "pipe = Pipeline([('pre_process', AudioDecode(offset=0.5, duration=1)),\n",
        "                 ('scaler', MinMaxScaler((0, 1))), \n",
        "                 ('feature_select', SelectKBest(chi2, k=1000)), \n",
        "                 ('classifier', ExtraTreeClassifier(random_state=42))])"
      ],
      "execution_count": null,
      "outputs": []
    },
    {
      "cell_type": "code",
      "metadata": {
        "id": "33_ScUE1p0SS"
      },
      "source": [
        "X_train, X_test, y_train, y_test = train_test_split(pd.DataFrame(files), y, test_size=0.3, random_state=12)\n",
        "pipe.fit(X_train, y_train)"
      ],
      "execution_count": null,
      "outputs": []
    },
    {
      "cell_type": "code",
      "metadata": {
        "id": "SAhZaMeDqVX1"
      },
      "source": [
        "y_pred = pipe.predict(X_test)\n",
        "accuracy_score(y_test, y_pred)"
      ],
      "execution_count": null,
      "outputs": []
    },
    {
      "cell_type": "code",
      "metadata": {
        "id": "DyqLGFSzqmui"
      },
      "source": [
        "!mkdir modelos"
      ],
      "execution_count": null,
      "outputs": []
    },
    {
      "cell_type": "code",
      "metadata": {
        "id": "OPKIXzIyqesb"
      },
      "source": [
        "from joblib import dump, load\n",
        "\n",
        "dump(pipe, 'modelos/sound_recognition.joblib') "
      ],
      "execution_count": null,
      "outputs": []
    },
    {
      "cell_type": "code",
      "metadata": {
        "id": "BNQXXDSNqwAd"
      },
      "source": [
        "modelo  = load('modelos/sound_recognition.joblib')"
      ],
      "execution_count": null,
      "outputs": []
    },
    {
      "cell_type": "code",
      "metadata": {
        "id": "NFtoYdJFqzbi"
      },
      "source": [
        "modelo.predict(X_test)"
      ],
      "execution_count": null,
      "outputs": []
    },
    {
      "cell_type": "code",
      "metadata": {
        "id": "b4pmSp_4E4JZ"
      },
      "source": [
        "modelo.predict(pd.DataFrame(['./datasets/audios/mulher/mulher_(10).ogg']))[0]"
      ],
      "execution_count": null,
      "outputs": []
    },
    {
      "cell_type": "code",
      "metadata": {
        "id": "4mrOavwPE0YC"
      },
      "source": [
        "X_test"
      ],
      "execution_count": null,
      "outputs": []
    }
  ]
}